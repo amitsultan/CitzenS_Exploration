{
 "cells": [
  {
   "cell_type": "code",
   "execution_count": 76,
   "metadata": {},
   "outputs": [],
   "source": [
    "import pandas as pd\n",
    "import numpy as np\n",
    "import csv\n"
   ]
  },
  {
   "cell_type": "code",
   "execution_count": 67,
   "metadata": {},
   "outputs": [],
   "source": [
    "project_states = pd.read_csv('project-states-15-sep-2021.csv', engine=\"python\", delimiter ='\\;')\n",
    "class_7d = pd.read_csv('classifications-7-days-kobi-16-sep-2021.csv', delimiter = ';')\n",
    "project_state_dict = {\n",
    "    0: 'paused',\n",
    "    1: 'finished'\n",
    "}\n",
    "\n",
    "project_states['state'] = project_states['state'].apply(lambda x: project_state_dict[x] if x in project_state_dict.keys() else 'active')"
   ]
  },
  {
   "cell_type": "code",
   "execution_count": 68,
   "metadata": {},
   "outputs": [
    {
     "data": {
      "text/html": [
       "<div>\n",
       "<style scoped>\n",
       "    .dataframe tbody tr th:only-of-type {\n",
       "        vertical-align: middle;\n",
       "    }\n",
       "\n",
       "    .dataframe tbody tr th {\n",
       "        vertical-align: top;\n",
       "    }\n",
       "\n",
       "    .dataframe thead th {\n",
       "        text-align: right;\n",
       "    }\n",
       "</style>\n",
       "<table border=\"1\" class=\"dataframe\">\n",
       "  <thead>\n",
       "    <tr style=\"text-align: right;\">\n",
       "      <th></th>\n",
       "      <th>id</th>\n",
       "      <th>display_name</th>\n",
       "      <th>launch_date</th>\n",
       "      <th>state</th>\n",
       "    </tr>\n",
       "  </thead>\n",
       "  <tbody>\n",
       "    <tr>\n",
       "      <th>0</th>\n",
       "      <td>5856</td>\n",
       "      <td>Southern Weather Discovery</td>\n",
       "      <td>2018-10-19 13:05:04.568858</td>\n",
       "      <td>paused</td>\n",
       "    </tr>\n",
       "    <tr>\n",
       "      <th>1</th>\n",
       "      <td>11402</td>\n",
       "      <td>FrogSong</td>\n",
       "      <td>2021-01-26 15:00:59.785477</td>\n",
       "      <td>active</td>\n",
       "    </tr>\n",
       "    <tr>\n",
       "      <th>2</th>\n",
       "      <td>10232</td>\n",
       "      <td>Snowflake ID</td>\n",
       "      <td>2021-08-10 15:43:06.356364</td>\n",
       "      <td>paused</td>\n",
       "    </tr>\n",
       "    <tr>\n",
       "      <th>3</th>\n",
       "      <td>7929</td>\n",
       "      <td>Planet Hunters TESS</td>\n",
       "      <td>2018-12-06 18:32:10.688484</td>\n",
       "      <td>active</td>\n",
       "    </tr>\n",
       "    <tr>\n",
       "      <th>4</th>\n",
       "      <td>6615</td>\n",
       "      <td>Rodent Little Brother: Secret Lives of Mice</td>\n",
       "      <td>2019-07-08 13:56:47.836319</td>\n",
       "      <td>paused</td>\n",
       "    </tr>\n",
       "  </tbody>\n",
       "</table>\n",
       "</div>"
      ],
      "text/plain": [
       "      id                                 display_name  \\\n",
       "0   5856                   Southern Weather Discovery   \n",
       "1  11402                                     FrogSong   \n",
       "2  10232                                 Snowflake ID   \n",
       "3   7929                          Planet Hunters TESS   \n",
       "4   6615  Rodent Little Brother: Secret Lives of Mice   \n",
       "\n",
       "                  launch_date   state  \n",
       "0  2018-10-19 13:05:04.568858  paused  \n",
       "1  2021-01-26 15:00:59.785477  active  \n",
       "2  2021-08-10 15:43:06.356364  paused  \n",
       "3  2018-12-06 18:32:10.688484  active  \n",
       "4  2019-07-08 13:56:47.836319  paused  "
      ]
     },
     "execution_count": 68,
     "metadata": {},
     "output_type": "execute_result"
    }
   ],
   "source": [
    "project_states.head()"
   ]
  },
  {
   "cell_type": "code",
   "execution_count": 70,
   "metadata": {},
   "outputs": [
    {
     "data": {
      "text/html": [
       "<div>\n",
       "<style scoped>\n",
       "    .dataframe tbody tr th:only-of-type {\n",
       "        vertical-align: middle;\n",
       "    }\n",
       "\n",
       "    .dataframe tbody tr th {\n",
       "        vertical-align: top;\n",
       "    }\n",
       "\n",
       "    .dataframe thead th {\n",
       "        text-align: right;\n",
       "    }\n",
       "</style>\n",
       "<table border=\"1\" class=\"dataframe\">\n",
       "  <thead>\n",
       "    <tr style=\"text-align: right;\">\n",
       "      <th></th>\n",
       "      <th>event_id</th>\n",
       "      <th>project_id</th>\n",
       "      <th>user_id</th>\n",
       "      <th>created_at</th>\n",
       "      <th>session_time</th>\n",
       "    </tr>\n",
       "  </thead>\n",
       "  <tbody>\n",
       "    <tr>\n",
       "      <th>0</th>\n",
       "      <td>360139554</td>\n",
       "      <td>9532</td>\n",
       "      <td>2355710</td>\n",
       "      <td>2021-09-15 20:43:50.74287</td>\n",
       "      <td>799</td>\n",
       "    </tr>\n",
       "    <tr>\n",
       "      <th>1</th>\n",
       "      <td>360140363</td>\n",
       "      <td>9532</td>\n",
       "      <td>2355710</td>\n",
       "      <td>2021-09-15 20:46:41.184972</td>\n",
       "      <td>170</td>\n",
       "    </tr>\n",
       "    <tr>\n",
       "      <th>2</th>\n",
       "      <td>360141514</td>\n",
       "      <td>9532</td>\n",
       "      <td>2355710</td>\n",
       "      <td>2021-09-15 20:50:57.900403</td>\n",
       "      <td>256</td>\n",
       "    </tr>\n",
       "    <tr>\n",
       "      <th>3</th>\n",
       "      <td>360142269</td>\n",
       "      <td>9532</td>\n",
       "      <td>2355710</td>\n",
       "      <td>2021-09-15 20:53:49.11485</td>\n",
       "      <td>128</td>\n",
       "    </tr>\n",
       "    <tr>\n",
       "      <th>4</th>\n",
       "      <td>360142976</td>\n",
       "      <td>9532</td>\n",
       "      <td>2355710</td>\n",
       "      <td>2021-09-15 20:56:24.14991</td>\n",
       "      <td>157</td>\n",
       "    </tr>\n",
       "    <tr>\n",
       "      <th>...</th>\n",
       "      <td>...</td>\n",
       "      <td>...</td>\n",
       "      <td>...</td>\n",
       "      <td>...</td>\n",
       "      <td>...</td>\n",
       "    </tr>\n",
       "    <tr>\n",
       "      <th>1543402</th>\n",
       "      <td>360050059</td>\n",
       "      <td>15650</td>\n",
       "      <td>2355961</td>\n",
       "      <td>2021-09-15 15:29:08.943041</td>\n",
       "      <td>3</td>\n",
       "    </tr>\n",
       "    <tr>\n",
       "      <th>1543403</th>\n",
       "      <td>360050060</td>\n",
       "      <td>7929</td>\n",
       "      <td>503779</td>\n",
       "      <td>2021-09-15 15:29:09.923338</td>\n",
       "      <td>7</td>\n",
       "    </tr>\n",
       "    <tr>\n",
       "      <th>1543404</th>\n",
       "      <td>360050061</td>\n",
       "      <td>4996</td>\n",
       "      <td>2279693</td>\n",
       "      <td>2021-09-15 15:29:09.923338</td>\n",
       "      <td>12</td>\n",
       "    </tr>\n",
       "    <tr>\n",
       "      <th>1543405</th>\n",
       "      <td>360050062</td>\n",
       "      <td>7273</td>\n",
       "      <td>2355675</td>\n",
       "      <td>2021-09-15 15:29:09.923338</td>\n",
       "      <td>17</td>\n",
       "    </tr>\n",
       "    <tr>\n",
       "      <th>1543406</th>\n",
       "      <td>360050064</td>\n",
       "      <td>2218</td>\n",
       "      <td>2343479</td>\n",
       "      <td>2021-09-15 15:29:10.946471</td>\n",
       "      <td>2</td>\n",
       "    </tr>\n",
       "  </tbody>\n",
       "</table>\n",
       "<p>1543407 rows × 5 columns</p>\n",
       "</div>"
      ],
      "text/plain": [
       "          event_id  project_id  user_id                  created_at  \\\n",
       "0        360139554        9532  2355710   2021-09-15 20:43:50.74287   \n",
       "1        360140363        9532  2355710  2021-09-15 20:46:41.184972   \n",
       "2        360141514        9532  2355710  2021-09-15 20:50:57.900403   \n",
       "3        360142269        9532  2355710   2021-09-15 20:53:49.11485   \n",
       "4        360142976        9532  2355710   2021-09-15 20:56:24.14991   \n",
       "...            ...         ...      ...                         ...   \n",
       "1543402  360050059       15650  2355961  2021-09-15 15:29:08.943041   \n",
       "1543403  360050060        7929   503779  2021-09-15 15:29:09.923338   \n",
       "1543404  360050061        4996  2279693  2021-09-15 15:29:09.923338   \n",
       "1543405  360050062        7273  2355675  2021-09-15 15:29:09.923338   \n",
       "1543406  360050064        2218  2343479  2021-09-15 15:29:10.946471   \n",
       "\n",
       "         session_time  \n",
       "0                 799  \n",
       "1                 170  \n",
       "2                 256  \n",
       "3                 128  \n",
       "4                 157  \n",
       "...               ...  \n",
       "1543402             3  \n",
       "1543403             7  \n",
       "1543404            12  \n",
       "1543405            17  \n",
       "1543406             2  \n",
       "\n",
       "[1543407 rows x 5 columns]"
      ]
     },
     "execution_count": 70,
     "metadata": {},
     "output_type": "execute_result"
    }
   ],
   "source": [
    "class_7d\n"
   ]
  },
  {
   "cell_type": "markdown",
   "metadata": {},
   "source": [
    "# Most active users"
   ]
  },
  {
   "cell_type": "code",
   "execution_count": 117,
   "metadata": {},
   "outputs": [],
   "source": [
    "user_id_count_dict = class_7d['user_id'].value_counts().to_dict()"
   ]
  },
  {
   "cell_type": "code",
   "execution_count": 167,
   "metadata": {},
   "outputs": [
    {
     "name": "stdout",
     "output_type": "stream",
     "text": [
      "first 10 user activity count [21377 15329 14397 12846 12274 11652 10787 10766  9731  8538]\n"
     ]
    },
    {
     "data": {
      "image/png": "[encoded data removed]",
      "text/plain": [
       "<Figure size 1152x576 with 1 Axes>"
      ]
     },
     "metadata": {
      "needs_background": "light"
     },
     "output_type": "display_data"
    }
   ],
   "source": [
    "import matplotlib.pyplot as plt\n",
    "from scipy import interpolate\n",
    "\n",
    "fig, ax = plt.subplots(figsize=(16, 8))\n",
    "\n",
    "users_count = len(class_7d['user_id'].unique())\n",
    "x_axis = np.arange(0, users_count)\n",
    "y_axis = np.array(list(user_id_count_dict.values()))\n",
    "print(f'first 10 user activity count {y_axis[:10]}')\n",
    "f = interpolate.interp1d(x_axis, y_axis)\n",
    "xnew = np.arange(0, users_count - 1, 0.1)\n",
    "ynew = f(xnew)\n",
    "\n",
    "#plt.hlines(y=39.5, xmin=100, xmax=175, colors='aqua', linestyles='-', lw=2, label='Single Short Line')\n",
    "ax.plot(x_axis, y_axis, xnew, ynew, '-')\n",
    "ax.set_title('User activity distribution')\n",
    "ax.set_ylabel('User activity count')\n",
    "ax.hlines(y=y_axis.mean(),xmin=0, xmax= users_count, linestyles='--', color='purple',label='mean user activity')\n",
    "ax.text(users_count + 400, 500, f'{round(y_axis.mean(), 3)}', ha='right', va='center')\n",
    "ax.legend(bbox_to_anchor=(1.04,0.5), loc=\"center left\", borderaxespad=0)\n",
    "ax.plot()\n",
    "plt.show()"
   ]
  },
  {
   "cell_type": "code",
   "execution_count": 163,
   "metadata": {},
   "outputs": [
    {
     "data": {
      "text/plain": [
       "<matplotlib.axes._subplots.AxesSubplot at 0x1cba2c8e430>"
      ]
     },
     "execution_count": 163,
     "metadata": {},
     "output_type": "execute_result"
    },
    {
     "data": {
      "image/png": "[encoded data removed]",
      "text/plain": [
       "<Figure size 1152x576 with 1 Axes>"
      ]
     },
     "metadata": {
      "needs_background": "light"
     },
     "output_type": "display_data"
    }
   ],
   "source": [
    "import seaborn as sns\n",
    "\n",
    "fig, ax = plt.subplots(figsize=(16, 8))\n",
    "sns.histplot(y_axis, cumulative=True, ax=ax)"
   ]
  },
  {
   "cell_type": "code",
   "execution_count": 177,
   "metadata": {},
   "outputs": [
    {
     "data": {
      "image/png": "[encoded data removed]",
      "text/plain": [
       "<Figure size 1152x576 with 1 Axes>"
      ]
     },
     "metadata": {
      "needs_background": "light"
     },
     "output_type": "display_data"
    }
   ],
   "source": [
    "project_counts = np.array(list(class_7d['project_id'].value_counts()))\n",
    "project_counts.sort()\n",
    "fig, ax = plt.subplots(figsize=(16, 8))\n",
    "sns.histplot(project_counts, ax=ax)\n",
    "plt.show()"
   ]
  },
  {
   "cell_type": "code",
   "execution_count": null,
   "metadata": {},
   "outputs": [],
   "source": [
    "HIST USER ID c\n",
    "PROJECT ID DISTR c\n",
    "AVG SESSION TIME AND DIST\n",
    "PROJECTS BY TIME\n"
   ]
  },
  {
   "cell_type": "code",
   "execution_count": 179,
   "metadata": {},
   "outputs": [
    {
     "data": {
      "image/png": "[encoded data removed]",
      "text/plain": [
       "<Figure size 1152x576 with 1 Axes>"
      ]
     },
     "metadata": {
      "needs_background": "light"
     },
     "output_type": "display_data"
    }
   ],
   "source": [
    "session_time = np.array(list(class_7d['session_time']))\n",
    "project_counts.sort()\n",
    "fig, ax = plt.subplots(figsize=(16, 8))\n",
    "sns.histplot(project_counts, ax=ax)\n",
    "plt.show()"
   ]
  },
  {
   "cell_type": "code",
   "execution_count": null,
   "metadata": {},
   "outputs": [],
   "source": []
  }
 ],
 "metadata": {
  "kernelspec": {
   "display_name": "venv",
   "language": "python",
   "name": "venv"
  },
  "language_info": {
   "codemirror_mode": {
    "name": "ipython",
    "version": 3
   },
   "file_extension": ".py",
   "mimetype": "text/x-python",
   "name": "python",
   "nbconvert_exporter": "python",
   "pygments_lexer": "ipython3",
   "version": "3.8.3"
  }
 },
 "nbformat": 4,
 "nbformat_minor": 4
}
